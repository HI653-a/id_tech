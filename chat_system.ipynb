{
  "nbformat": 4,
  "nbformat_minor": 0,
  "metadata": {
    "colab": {
      "provenance": [],
      "toc_visible": true
    },
    "kernelspec": {
      "name": "python3",
      "display_name": "Python 3"
    },
    "language_info": {
      "name": "python"
    }
  },
  "cells": [
    {
      "cell_type": "markdown",
      "source": [
        "# Intro to AI Technologies\n",
        "As technology advances, new artificial intelligence-based tools and features, such as speech recognition, image recognition, virtual chat assistants, etc., are being introduced.\n",
        "\n",
        "Recently, AI technologies from OpenAI have become more popular and well-known, such as ChatGPT, an AI-based chat system. You'll use OpenAI technologies to code your own AI-based applications."
      ],
      "metadata": {
        "id": "xGlC9lfuJE_V"
      }
    },
    {
      "cell_type": "markdown",
      "source": [
        "## Importing OpenAI\n",
        "To import the OpenAI library, you'll use the keyword import to install all the packages required to use the OpenAI tools."
      ],
      "metadata": {
        "id": "UcA61nAWJpBh"
      }
    },
    {
      "cell_type": "code",
      "execution_count": null,
      "metadata": {
        "id": "BTes7FbwH3pF"
      },
      "outputs": [],
      "source": [
        "# Import the OpenAI library\n"
      ]
    },
    {
      "cell_type": "code",
      "source": [
        "# Use the OpenAI client library to add your API key.\n"
      ],
      "metadata": {
        "id": "t7hBkgTsTe2W"
      },
      "execution_count": null,
      "outputs": []
    },
    {
      "cell_type": "markdown",
      "source": [
        "## Create a While Loop\n",
        "You'll create a while loop that allows the user to input prompts until they are ready to exit the system."
      ],
      "metadata": {
        "id": "Bm5krV4ewBhs"
      }
    },
    {
      "cell_type": "code",
      "source": [
        "# Declare a control variable called end_program and assign the value as False.\n"
      ],
      "metadata": {
        "id": "2SnGQ6LCrV2y"
      },
      "execution_count": null,
      "outputs": []
    },
    {
      "cell_type": "code",
      "source": [
        "# Create a while loop to set up the chatbot system.\n"
      ],
      "metadata": {
        "id": "lkK4qX8mtEBp"
      },
      "execution_count": null,
      "outputs": []
    }
  ]
}